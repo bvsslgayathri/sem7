{
  "nbformat": 4,
  "nbformat_minor": 0,
  "metadata": {
    "colab": {
      "provenance": []
    },
    "kernelspec": {
      "name": "python3",
      "display_name": "Python 3"
    },
    "language_info": {
      "name": "python"
    }
  },
  "cells": [
    {
      "cell_type": "code",
      "execution_count": null,
      "metadata": {
        "colab": {
          "base_uri": "https://localhost:8080/",
          "height": 543
        },
        "id": "XMaolIsb5Vc5",
        "outputId": "d099b45f-c9ea-416a-ae47-ca6b9329e7e4"
      },
      "outputs": [
        {
          "output_type": "stream",
          "name": "stdout",
          "text": [
            "     Survived                                               Name\n",
            "0           0                            Braund, Mr. Owen Harris\n",
            "1           1  Cumings, Mrs. John Bradley (Florence Briggs Th...\n",
            "2           1                             Heikkinen, Miss. Laina\n",
            "3           1       Futrelle, Mrs. Jacques Heath (Lily May Peel)\n",
            "4           0                           Allen, Mr. William Henry\n",
            "..        ...                                                ...\n",
            "886         0                              Montvila, Rev. Juozas\n",
            "887         1                       Graham, Miss. Margaret Edith\n",
            "888         0           Johnston, Miss. Catherine Helen \"Carrie\"\n",
            "889         1                              Behr, Mr. Karl Howell\n",
            "890         0                                Dooley, Mr. Patrick\n",
            "\n",
            "[891 rows x 2 columns]\n",
            "Logistic Regression Accuracy :  94.01913875598086\n"
          ]
        },
        {
          "output_type": "execute_result",
          "data": {
            "text/plain": [
              "<matplotlib.axes._subplots.AxesSubplot at 0x7fc7da0d67d0>"
            ]
          },
          "metadata": {},
          "execution_count": 1
        },
        {
          "output_type": "display_data",
          "data": {
            "text/plain": [
              "<Figure size 432x288 with 2 Axes>"
            ],
            "image/png": "[encoded data removed]"
          },
          "metadata": {
            "needs_background": "light"
          }
        }
      ],
      "source": [
        "from sklearn.model_selection import train_test_split \n",
        "from sklearn.neighbors import KNeighborsClassifier\n",
        "import sklearn.metrics as metrics\n",
        "from sklearn.metrics import confusion_matrix\n",
        "import seaborn as sb\n",
        "import pandas as pd\n",
        "from sklearn.linear_model import LogisticRegression\n",
        "\n",
        "df = pd.read_csv(\"/content/drive/MyDrive/datasets/titanic/gender_submission.csv\")\n",
        "test_df = pd.read_csv(\"/content/drive/MyDrive/datasets/titanic/test.csv\")\n",
        "train_df = pd.read_csv(\"/content/drive/MyDrive/datasets/titanic/train.csv\")\n",
        "test_df['Sex'].replace(['male','female'],[0,1],inplace=True)\n",
        "train_df['Sex'].replace(['male','female'],[0,1],inplace=True)\n",
        "train_df['Age'].fillna(value=train_df['Age'].mean(), inplace=True)\n",
        "test_df['Age'].fillna(value=test_df['Age'].mean(), inplace=True)\n",
        "\n",
        "x_train = train_df.drop(['Survived','Name','Ticket','Embarked','Cabin','Fare'], axis = 1)\n",
        "y_train = train_df['Survived']\n",
        "print(train_df[['Survived','Name']])\n",
        "x_test = test_df.drop(['Name','Ticket','Embarked','Cabin','Fare'],axis=1)\n",
        "y_test = df['Survived']\n",
        "model = LogisticRegression(solver=\"liblinear\",multi_class=\"ovr\")\n",
        "model.fit(x_train, y_train)\n",
        "predicted_values = model.predict(x_test)\n",
        "acc_knn = metrics.accuracy_score(y_test, predicted_values)\n",
        "print(\"Logistic Regression Accuracy : \",acc_knn*100)\n",
        "knncm = confusion_matrix(y_test,predicted_values)\n",
        "sb.heatmap(knncm,annot=True,linewidth=1.0,cmap=\"PuBu\")"
      ]
    }
  ]
}