{
  "nbformat": 4,
  "nbformat_minor": 0,
  "metadata": {
    "colab": {
      "provenance": []
    },
    "kernelspec": {
      "name": "python3",
      "display_name": "Python 3"
    },
    "language_info": {
      "name": "python"
    }
  },
  "cells": [
    {
      "cell_type": "code",
      "execution_count": null,
      "metadata": {
        "id": "h7GOR8beqQVj"
      },
      "outputs": [],
      "source": [
        "#Create a perceptron with appropriate number of inputs and outputs. Train it using a fixed increment learning \n",
        "#algorithm until no change in weights is required. Output the final weights.\n"
      ]
    },
    {
      "cell_type": "code",
      "source": [
        "# Make a prediction with weights\n",
        "def predict(row, weights):\n",
        "\tactivation = weights[0]\n",
        "\tfor i in range(len(row)-1):\n",
        "\t\tactivation += weights[i + 1] * row[i]\n",
        "\treturn 1.0 if activation >= 0.0 else 0.0\n",
        "\n",
        "# Estimate Perceptron weights using stochastic gradient descent\n",
        "def train_weights(train, l_rate,th):\n",
        "  weights = [0.0 for i in range(len(train[0]))]\n",
        "  while True:\n",
        "    sum_error = 0.0\n",
        "    for row in train:\n",
        "      prediction = predict(row, weights)\n",
        "      error = row[-1] - prediction\n",
        "      sum_error += error**2\n",
        "      weights[0] = weights[0] + l_rate * error\n",
        "      for i in range(len(row)-1):\n",
        "        weights[i + 1] = weights[i + 1] + l_rate * error * row[i]\n",
        "    print('lrate=%.3f, error=%.3f, threshold=%.3f' % ( l_rate, sum_error,th))\n",
        "    if sum_error <th:\n",
        "      break\n",
        "    \n",
        "  return weights\n",
        "\n",
        "dataset = [[2.7810836,2.550537003,0],\n",
        "\t[1.465489372,2.362125076,0],\n",
        "\t[3.396561688,4.400293529,0],\n",
        "\t[1.38807019,1.850220317,0],\n",
        "\t[3.06407232,3.005305973,0],\n",
        "\t[7.627531214,2.759262235,1],\n",
        "\t[5.332441248,2.088626775,1],\n",
        "\t[6.922596716,1.77106367,1],\n",
        "\t[8.675418651,-0.242068655,1],\n",
        "\t[7.673756466,3.508563011,1]]\n",
        "\n",
        "th=0.1\n",
        "l_rate = 0.1\n",
        "weights = train_weights(dataset, l_rate,th)\n",
        "print(\"Final Weights are\",weights)"
      ],
      "metadata": {
        "colab": {
          "base_uri": "https://localhost:8080/"
        },
        "id": "QNIAsbsDrb1O",
        "outputId": "a1f3d93c-7652-44f7-d193-a59b229af611"
      },
      "execution_count": null,
      "outputs": [
        {
          "output_type": "stream",
          "name": "stdout",
          "text": [
            "lrate=0.100, error=2.000, threshold=0.100\n",
            "lrate=0.100, error=1.000, threshold=0.100\n",
            "lrate=0.100, error=0.000, threshold=0.100\n",
            "Final Weights are [-0.1, 0.20653640140000007, -0.23418117710000003]\n"
          ]
        }
      ]
    }
  ]
}