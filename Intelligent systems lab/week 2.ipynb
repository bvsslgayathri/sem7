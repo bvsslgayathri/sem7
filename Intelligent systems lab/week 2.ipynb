{
  "nbformat": 4,
  "nbformat_minor": 0,
  "metadata": {
    "colab": {
      "provenance": [],
      "collapsed_sections": []
    },
    "kernelspec": {
      "name": "python3",
      "display_name": "Python 3"
    },
    "language_info": {
      "name": "python"
    }
  },
  "cells": [
    {
      "cell_type": "code",
      "execution_count": null,
      "metadata": {
        "id": "iWwhS8l4ITaZ"
      },
      "outputs": [],
      "source": [
        "import pandas as pd\n"
      ]
    },
    {
      "cell_type": "code",
      "source": [
        "df=pd.read_csv('/content/Crop_recommendation.csv')\n"
      ],
      "metadata": {
        "id": "_tBsgoQlIYos"
      },
      "execution_count": null,
      "outputs": []
    },
    {
      "cell_type": "code",
      "source": [
        "from sklearn.model_selection import train_test_split \n",
        "from sklearn.preprocessing import LabelEncoder\n",
        "import sklearn.metrics as metrics\n"
      ],
      "metadata": {
        "id": "9gj30UEvJDFL"
      },
      "execution_count": null,
      "outputs": []
    },
    {
      "cell_type": "code",
      "source": [
        "lab_enc=LabelEncoder()"
      ],
      "metadata": {
        "id": "IojIMKz_JT0j"
      },
      "execution_count": null,
      "outputs": []
    },
    {
      "cell_type": "code",
      "source": [
        "X = df.drop('label', axis = 1)\n",
        "y = df['label']\n"
      ],
      "metadata": {
        "id": "LvD8OhuNJYTf"
      },
      "execution_count": null,
      "outputs": []
    },
    {
      "cell_type": "code",
      "source": [
        "X_train, X_test, y_train, y_test = train_test_split(X, y, train_size = 0.8)"
      ],
      "metadata": {
        "id": "ZZ5VdriLJqrZ"
      },
      "execution_count": null,
      "outputs": []
    },
    {
      "cell_type": "markdown",
      "source": [
        "*Random forest*"
      ],
      "metadata": {
        "id": "x_xaL1FsKLs_"
      }
    },
    {
      "cell_type": "code",
      "source": [
        "from sklearn.ensemble import RandomForestClassifier\n",
        "\n",
        "randomforest = RandomForestClassifier(n_estimators=30, random_state=0)\n",
        "\n",
        "randomforest.fit(X_train,y_train)\n",
        "\n",
        "predicted_values = randomforest.predict(X_test)\n",
        "\n",
        "random_forest_acc = metrics.accuracy_score(y_test, predicted_values)"
      ],
      "metadata": {
        "id": "g639Sa-1J-3r"
      },
      "execution_count": null,
      "outputs": []
    },
    {
      "cell_type": "code",
      "source": [
        "random_forest_acc*100"
      ],
      "metadata": {
        "colab": {
          "base_uri": "https://localhost:8080/"
        },
        "id": "_LdSU2HXKS9N",
        "outputId": "25b9f96a-a201-4347-f6f9-3c4d963ad5e8"
      },
      "execution_count": null,
      "outputs": [
        {
          "output_type": "execute_result",
          "data": {
            "text/plain": [
              "99.0909090909091"
            ]
          },
          "metadata": {},
          "execution_count": 10
        }
      ]
    },
    {
      "cell_type": "code",
      "source": [
        "from sklearn.metrics import confusion_matrix\n",
        "\n",
        "r_f=confusion_matrix(y_test,predicted_values)"
      ],
      "metadata": {
        "id": "_3ESr037KXXy"
      },
      "execution_count": null,
      "outputs": []
    },
    {
      "cell_type": "code",
      "source": [
        "sb.heatmap(r_f, annot=True, linewidth=1.0,cmap='PuBu')\n"
      ],
      "metadata": {
        "colab": {
          "base_uri": "https://localhost:8080/",
          "height": 285
        },
        "id": "6HAnEWvtKYVS",
        "outputId": "8bf91927-f9cc-42f0-a185-98500700b367"
      },
      "execution_count": null,
      "outputs": [
        {
          "output_type": "execute_result",
          "data": {
            "text/plain": [
              "<matplotlib.axes._subplots.AxesSubplot at 0x7f336cba8190>"
            ]
          },
          "metadata": {},
          "execution_count": 20
        },
        {
          "output_type": "display_data",
          "data": {
            "text/plain": [
              "<Figure size 432x288 with 2 Axes>"
            ],
            "image/png": "[encoded data removed]"
          },
          "metadata": {
            "needs_background": "light"
          }
        }
      ]
    },
    {
      "cell_type": "markdown",
      "source": [
        "*LOGISTIC* REGRESSION"
      ],
      "metadata": {
        "id": "1WkGtAH5Kdoh"
      }
    },
    {
      "cell_type": "code",
      "source": [
        "from sklearn.linear_model import LogisticRegression\n",
        "l_r=LogisticRegression(solver='liblinear',multi_class='ovr')\n",
        "l_r.fit(X_train,y_train)\n",
        "predicted_values = l_r.predict(X_test)\n",
        "lr_acc = metrics.accuracy_score(y_test, predicted_values)"
      ],
      "metadata": {
        "id": "iIQxWQNGKeM8"
      },
      "execution_count": null,
      "outputs": []
    },
    {
      "cell_type": "code",
      "source": [
        "lr_acc*100"
      ],
      "metadata": {
        "colab": {
          "base_uri": "https://localhost:8080/"
        },
        "id": "QwTmvCY3Khhi",
        "outputId": "d5821719-3a05-4cf7-afcf-c46a03d98e6c"
      },
      "execution_count": null,
      "outputs": [
        {
          "output_type": "execute_result",
          "data": {
            "text/plain": [
              "93.86363636363636"
            ]
          },
          "metadata": {},
          "execution_count": 14
        }
      ]
    },
    {
      "cell_type": "code",
      "source": [
        "lr=confusion_matrix(y_test,predicted_values)\n",
        "sb.heatmap(lr, annot=True, linewidth=1.0,cmap='PuBu')\n"
      ],
      "metadata": {
        "colab": {
          "base_uri": "https://localhost:8080/",
          "height": 285
        },
        "id": "FtIgKn4QKkOj",
        "outputId": "d355498e-7e7d-407e-8329-0b85aea6abc7"
      },
      "execution_count": null,
      "outputs": [
        {
          "output_type": "execute_result",
          "data": {
            "text/plain": [
              "<matplotlib.axes._subplots.AxesSubplot at 0x7f336bdfebd0>"
            ]
          },
          "metadata": {},
          "execution_count": 23
        },
        {
          "output_type": "display_data",
          "data": {
            "text/plain": [
              "<Figure size 432x288 with 2 Axes>"
            ],
            "image/png": "[encoded data removed]"
          },
          "metadata": {
            "needs_background": "light"
          }
        }
      ]
    },
    {
      "cell_type": "markdown",
      "source": [
        "Decision tree\n"
      ],
      "metadata": {
        "id": "ldCjrLw1Kv5l"
      }
    },
    {
      "cell_type": "code",
      "source": [
        "from sklearn.tree import DecisionTreeClassifier\n",
        "\n",
        "dt = DecisionTreeClassifier(random_state=42).fit(X_train, y_train)\n"
      ],
      "metadata": {
        "id": "mx6bqdslKl3m"
      },
      "execution_count": null,
      "outputs": []
    },
    {
      "cell_type": "code",
      "source": [
        "predicted_values = dt.predict(X_test)"
      ],
      "metadata": {
        "id": "_rb2xLZP5gSG"
      },
      "execution_count": null,
      "outputs": []
    },
    {
      "cell_type": "code",
      "source": [
        "dt_acc=metrics.accuracy_score(y_test,predicted_values)"
      ],
      "metadata": {
        "id": "oKjVdmctK3TV"
      },
      "execution_count": null,
      "outputs": []
    },
    {
      "cell_type": "code",
      "source": [
        "dt_acc*100"
      ],
      "metadata": {
        "id": "uYoNBXfELBkh",
        "colab": {
          "base_uri": "https://localhost:8080/"
        },
        "outputId": "6586b455-5aa2-46ec-a699-5f4da818fa8f"
      },
      "execution_count": null,
      "outputs": [
        {
          "output_type": "execute_result",
          "data": {
            "text/plain": [
              "99.0909090909091"
            ]
          },
          "metadata": {},
          "execution_count": 18
        }
      ]
    },
    {
      "cell_type": "code",
      "source": [
        "lr=confusion_matrix(y_test,predicted_values)\n",
        "sb.heatmap(lr, annot=True, linewidth=1.0,cmap='PuBu')\n"
      ],
      "metadata": {
        "colab": {
          "base_uri": "https://localhost:8080/",
          "height": 285
        },
        "id": "E8ZYRXdGK4tB",
        "outputId": "aea46a0b-1297-414e-9d72-a4f71e3c27b1"
      },
      "execution_count": null,
      "outputs": [
        {
          "output_type": "execute_result",
          "data": {
            "text/plain": [
              "<matplotlib.axes._subplots.AxesSubplot at 0x7f336a44a850>"
            ]
          },
          "metadata": {},
          "execution_count": 34
        },
        {
          "output_type": "display_data",
          "data": {
            "text/plain": [
              "<Figure size 432x288 with 2 Axes>"
            ],
            "image/png": "[encoded data removed]"
          },
          "metadata": {
            "needs_background": "light"
          }
        }
      ]
    },
    {
      "cell_type": "code",
      "source": [
        "print('accuracy for Random Forest: ',random_forest_acc*100)\n",
        "print('accuracy for Logistic Regression: ',lr_acc*100)\n",
        "print('accuracy for Decision Tree: ',dt_acc*100)"
      ],
      "metadata": {
        "colab": {
          "base_uri": "https://localhost:8080/"
        },
        "id": "pnsvWJpFrMpZ",
        "outputId": "3e892944-3633-44fa-dc4e-a4419bd0a956"
      },
      "execution_count": null,
      "outputs": [
        {
          "output_type": "stream",
          "name": "stdout",
          "text": [
            "accuracy for KNN algorithm:  98.18181818181819\n",
            "accuracy for Random Forest:  99.77272727272727\n",
            "accuracy for Logistic Regression:  95.45454545454545\n",
            "accuracy for Decision Tree:  99.0909090909091\n"
          ]
        }
      ]
    }
  ]
}