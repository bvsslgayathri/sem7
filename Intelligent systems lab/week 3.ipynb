{
  "nbformat": 4,
  "nbformat_minor": 0,
  "metadata": {
    "colab": {
      "provenance": [],
      "collapsed_sections": []
    },
    "kernelspec": {
      "name": "python3",
      "display_name": "Python 3"
    },
    "language_info": {
      "name": "python"
    }
  },
  "cells": [
    {
      "cell_type": "code",
      "execution_count": null,
      "metadata": {
        "id": "8P-UemfdCxls"
      },
      "outputs": [],
      "source": [
        "import pandas as pd\n",
        "from sklearn.model_selection import train_test_split \n",
        "from sklearn.preprocessing import LabelEncoder\n",
        "\n",
        "import sklearn.metrics as metrics\n",
        "\n",
        "from sklearn import svm\n",
        "\n",
        "import numpy as np"
      ]
    },
    {
      "cell_type": "code",
      "source": [
        "data = pd.read_csv('/content/creditcard.csv', on_bad_lines='skip')\n",
        "df = pd.DataFrame(data)"
      ],
      "metadata": {
        "id": "kX-BNPYGdIz-"
      },
      "execution_count": null,
      "outputs": []
    },
    {
      "cell_type": "code",
      "source": [
        "df=df.dropna()"
      ],
      "metadata": {
        "id": "ULGvTnR6y5-n"
      },
      "execution_count": null,
      "outputs": []
    },
    {
      "cell_type": "code",
      "source": [
        "df_train_all = df[0:15000] \n",
        "df_test_all = df[15000:] \n",
        "\n",
        "df_test_all"
      ],
      "metadata": {
        "colab": {
          "base_uri": "https://localhost:8080/",
          "height": 488
        },
        "id": "NNYItqDJlfoH",
        "outputId": "1600610b-9374-4d7a-84c4-ce680e9ec3f8"
      },
      "execution_count": null,
      "outputs": [
        {
          "output_type": "execute_result",
          "data": {
            "text/plain": [
              "         Time        V1        V2        V3        V4        V5        V6  \\\n",
              "15000   26325 -3.140870  2.908782 -0.881833  1.138995 -1.381515 -0.083588   \n",
              "15001   26327 -0.614853  0.735691  0.198470 -0.019771  2.727380  3.565853   \n",
              "15002   26328 -0.287682  1.368358  0.161761  2.151148 -2.508894  1.762911   \n",
              "15003   26328  1.245674  0.166975  0.488306  0.635322 -0.562777 -1.011073   \n",
              "15004   26331  1.160957  1.265621 -1.576473  1.472988  1.162173 -1.013532   \n",
              "...       ...       ...       ...       ...       ...       ...       ...   \n",
              "144661  86305  1.145930  0.131902  0.582682  0.509226 -0.344547 -0.312745   \n",
              "144662  86306 -1.159439  1.293311  1.665354  0.216017  0.277078 -0.097341   \n",
              "144663  86307  0.127203  0.750928 -0.907181 -0.787828  2.098630  3.769405   \n",
              "144664  86307 -1.256340  0.666847  0.857662  1.071812 -0.624798  0.329237   \n",
              "144665  86308 -2.085957  2.132527  0.394236 -0.793308  0.560582  0.250669   \n",
              "\n",
              "              V7        V8        V9  ...       V21       V22       V23  \\\n",
              "15000  -1.162065  2.103742  0.164496  ... -0.011362 -0.033368  0.118559   \n",
              "15001   0.389681  0.871756 -1.198994  ... -0.422813 -1.577793  0.056957   \n",
              "15002   5.318688 -1.974874 -0.881330  ... -0.370832  0.439046 -0.487087   \n",
              "15003   0.014953 -0.160211  0.170362  ... -0.262581 -0.816264  0.140304   \n",
              "15004   0.658133 -0.152624 -0.847326  ... -0.120365 -0.204997 -0.203189   \n",
              "...          ...       ...       ...  ...       ...       ...       ...   \n",
              "144661 -0.106618  0.066582 -0.229426  ... -0.160625 -0.485816  0.172732   \n",
              "144662  0.810287  0.228097 -0.393932  ... -0.044334  0.026481 -0.363068   \n",
              "144663 -1.449344 -1.757987 -0.638194  ... -1.625143 -0.887240  0.037570   \n",
              "144664  0.477858  0.502438 -0.291680  ...  0.097908  0.428510 -0.175776   \n",
              "144665  0.898546 -0.087808  1.373166  ... -0.688234 -0.691653 -0.155321   \n",
              "\n",
              "             V24       V25       V26       V27       V28  Amount  Class  \n",
              "15000  -0.322647  0.187667 -0.219283 -0.217660 -0.099346    1.00    0.0  \n",
              "15001   0.920062  0.218562 -0.644326  0.057851  0.086704   51.00    0.0  \n",
              "15002   0.483052 -0.271538 -0.078519 -0.660945 -1.195185  736.36    0.0  \n",
              "15003   0.357827  0.186423  0.096544 -0.035866  0.018495    8.99    0.0  \n",
              "15004  -0.282172  0.785278 -0.284958  0.058399  0.085436    1.79    0.0  \n",
              "...          ...       ...       ...       ...       ...     ...    ...  \n",
              "144661  0.218591  0.083800  0.093498 -0.017647  0.008699    8.99    0.0  \n",
              "144662  0.091470  0.671527 -0.440231 -0.363294 -0.232516    9.99    0.0  \n",
              "144663  0.931982  0.892304  0.166069 -0.040906  0.134052    1.98    0.0  \n",
              "144664  0.032314 -0.033240 -0.269483  0.257663  0.049923  150.57    0.0  \n",
              "144665 -0.941042  0.082100  0.005104 -0.252739 -0.930140    8.92    0.0  \n",
              "\n",
              "[129666 rows x 31 columns]"
            ],
            "text/html": [
              "\n",
              "  <div id=\"df-a99db4f0-9574-407c-bc30-58d7e571381e\">\n",
              "    <div class=\"colab-df-container\">\n",
              "      <div>\n",
              "<style scoped>\n",
              "    .dataframe tbody tr th:only-of-type {\n",
              "        vertical-align: middle;\n",
              "    }\n",
              "\n",
              "    .dataframe tbody tr th {\n",
              "        vertical-align: top;\n",
              "    }\n",
              "\n",
              "    .dataframe thead th {\n",
              "        text-align: right;\n",
              "    }\n",
              "</style>\n",
              "<table border=\"1\" class=\"dataframe\">\n",
              "  <thead>\n",
              "    <tr style=\"text-align: right;\">\n",
              "      <th></th>\n",
              "      <th>Time</th>\n",
              "      <th>V1</th>\n",
              "      <th>V2</th>\n",
              "      <th>V3</th>\n",
              "      <th>V4</th>\n",
              "      <th>V5</th>\n",
              "      <th>V6</th>\n",
              "      <th>V7</th>\n",
              "      <th>V8</th>\n",
              "      <th>V9</th>\n",
              "      <th>...</th>\n",
              "      <th>V21</th>\n",
              "      <th>V22</th>\n",
              "      <th>V23</th>\n",
              "      <th>V24</th>\n",
              "      <th>V25</th>\n",
              "      <th>V26</th>\n",
              "      <th>V27</th>\n",
              "      <th>V28</th>\n",
              "      <th>Amount</th>\n",
              "      <th>Class</th>\n",
              "    </tr>\n",
              "  </thead>\n",
              "  <tbody>\n",
              "    <tr>\n",
              "      <th>15000</th>\n",
              "      <td>26325</td>\n",
              "      <td>-3.140870</td>\n",
              "      <td>2.908782</td>\n",
              "      <td>-0.881833</td>\n",
              "      <td>1.138995</td>\n",
              "      <td>-1.381515</td>\n",
              "      <td>-0.083588</td>\n",
              "      <td>-1.162065</td>\n",
              "      <td>2.103742</td>\n",
              "      <td>0.164496</td>\n",
              "      <td>...</td>\n",
              "      <td>-0.011362</td>\n",
              "      <td>-0.033368</td>\n",
              "      <td>0.118559</td>\n",
              "      <td>-0.322647</td>\n",
              "      <td>0.187667</td>\n",
              "      <td>-0.219283</td>\n",
              "      <td>-0.217660</td>\n",
              "      <td>-0.099346</td>\n",
              "      <td>1.00</td>\n",
              "      <td>0.0</td>\n",
              "    </tr>\n",
              "    <tr>\n",
              "      <th>15001</th>\n",
              "      <td>26327</td>\n",
              "      <td>-0.614853</td>\n",
              "      <td>0.735691</td>\n",
              "      <td>0.198470</td>\n",
              "      <td>-0.019771</td>\n",
              "      <td>2.727380</td>\n",
              "      <td>3.565853</td>\n",
              "      <td>0.389681</td>\n",
              "      <td>0.871756</td>\n",
              "      <td>-1.198994</td>\n",
              "      <td>...</td>\n",
              "      <td>-0.422813</td>\n",
              "      <td>-1.577793</td>\n",
              "      <td>0.056957</td>\n",
              "      <td>0.920062</td>\n",
              "      <td>0.218562</td>\n",
              "      <td>-0.644326</td>\n",
              "      <td>0.057851</td>\n",
              "      <td>0.086704</td>\n",
              "      <td>51.00</td>\n",
              "      <td>0.0</td>\n",
              "    </tr>\n",
              "    <tr>\n",
              "      <th>15002</th>\n",
              "      <td>26328</td>\n",
              "      <td>-0.287682</td>\n",
              "      <td>1.368358</td>\n",
              "      <td>0.161761</td>\n",
              "      <td>2.151148</td>\n",
              "      <td>-2.508894</td>\n",
              "      <td>1.762911</td>\n",
              "      <td>5.318688</td>\n",
              "      <td>-1.974874</td>\n",
              "      <td>-0.881330</td>\n",
              "      <td>...</td>\n",
              "      <td>-0.370832</td>\n",
              "      <td>0.439046</td>\n",
              "      <td>-0.487087</td>\n",
              "      <td>0.483052</td>\n",
              "      <td>-0.271538</td>\n",
              "      <td>-0.078519</td>\n",
              "      <td>-0.660945</td>\n",
              "      <td>-1.195185</td>\n",
              "      <td>736.36</td>\n",
              "      <td>0.0</td>\n",
              "    </tr>\n",
              "    <tr>\n",
              "      <th>15003</th>\n",
              "      <td>26328</td>\n",
              "      <td>1.245674</td>\n",
              "      <td>0.166975</td>\n",
              "      <td>0.488306</td>\n",
              "      <td>0.635322</td>\n",
              "      <td>-0.562777</td>\n",
              "      <td>-1.011073</td>\n",
              "      <td>0.014953</td>\n",
              "      <td>-0.160211</td>\n",
              "      <td>0.170362</td>\n",
              "      <td>...</td>\n",
              "      <td>-0.262581</td>\n",
              "      <td>-0.816264</td>\n",
              "      <td>0.140304</td>\n",
              "      <td>0.357827</td>\n",
              "      <td>0.186423</td>\n",
              "      <td>0.096544</td>\n",
              "      <td>-0.035866</td>\n",
              "      <td>0.018495</td>\n",
              "      <td>8.99</td>\n",
              "      <td>0.0</td>\n",
              "    </tr>\n",
              "    <tr>\n",
              "      <th>15004</th>\n",
              "      <td>26331</td>\n",
              "      <td>1.160957</td>\n",
              "      <td>1.265621</td>\n",
              "      <td>-1.576473</td>\n",
              "      <td>1.472988</td>\n",
              "      <td>1.162173</td>\n",
              "      <td>-1.013532</td>\n",
              "      <td>0.658133</td>\n",
              "      <td>-0.152624</td>\n",
              "      <td>-0.847326</td>\n",
              "      <td>...</td>\n",
              "      <td>-0.120365</td>\n",
              "      <td>-0.204997</td>\n",
              "      <td>-0.203189</td>\n",
              "      <td>-0.282172</td>\n",
              "      <td>0.785278</td>\n",
              "      <td>-0.284958</td>\n",
              "      <td>0.058399</td>\n",
              "      <td>0.085436</td>\n",
              "      <td>1.79</td>\n",
              "      <td>0.0</td>\n",
              "    </tr>\n",
              "    <tr>\n",
              "      <th>...</th>\n",
              "      <td>...</td>\n",
              "      <td>...</td>\n",
              "      <td>...</td>\n",
              "      <td>...</td>\n",
              "      <td>...</td>\n",
              "      <td>...</td>\n",
              "      <td>...</td>\n",
              "      <td>...</td>\n",
              "      <td>...</td>\n",
              "      <td>...</td>\n",
              "      <td>...</td>\n",
              "      <td>...</td>\n",
              "      <td>...</td>\n",
              "      <td>...</td>\n",
              "      <td>...</td>\n",
              "      <td>...</td>\n",
              "      <td>...</td>\n",
              "      <td>...</td>\n",
              "      <td>...</td>\n",
              "      <td>...</td>\n",
              "      <td>...</td>\n",
              "    </tr>\n",
              "    <tr>\n",
              "      <th>144661</th>\n",
              "      <td>86305</td>\n",
              "      <td>1.145930</td>\n",
              "      <td>0.131902</td>\n",
              "      <td>0.582682</td>\n",
              "      <td>0.509226</td>\n",
              "      <td>-0.344547</td>\n",
              "      <td>-0.312745</td>\n",
              "      <td>-0.106618</td>\n",
              "      <td>0.066582</td>\n",
              "      <td>-0.229426</td>\n",
              "      <td>...</td>\n",
              "      <td>-0.160625</td>\n",
              "      <td>-0.485816</td>\n",
              "      <td>0.172732</td>\n",
              "      <td>0.218591</td>\n",
              "      <td>0.083800</td>\n",
              "      <td>0.093498</td>\n",
              "      <td>-0.017647</td>\n",
              "      <td>0.008699</td>\n",
              "      <td>8.99</td>\n",
              "      <td>0.0</td>\n",
              "    </tr>\n",
              "    <tr>\n",
              "      <th>144662</th>\n",
              "      <td>86306</td>\n",
              "      <td>-1.159439</td>\n",
              "      <td>1.293311</td>\n",
              "      <td>1.665354</td>\n",
              "      <td>0.216017</td>\n",
              "      <td>0.277078</td>\n",
              "      <td>-0.097341</td>\n",
              "      <td>0.810287</td>\n",
              "      <td>0.228097</td>\n",
              "      <td>-0.393932</td>\n",
              "      <td>...</td>\n",
              "      <td>-0.044334</td>\n",
              "      <td>0.026481</td>\n",
              "      <td>-0.363068</td>\n",
              "      <td>0.091470</td>\n",
              "      <td>0.671527</td>\n",
              "      <td>-0.440231</td>\n",
              "      <td>-0.363294</td>\n",
              "      <td>-0.232516</td>\n",
              "      <td>9.99</td>\n",
              "      <td>0.0</td>\n",
              "    </tr>\n",
              "    <tr>\n",
              "      <th>144663</th>\n",
              "      <td>86307</td>\n",
              "      <td>0.127203</td>\n",
              "      <td>0.750928</td>\n",
              "      <td>-0.907181</td>\n",
              "      <td>-0.787828</td>\n",
              "      <td>2.098630</td>\n",
              "      <td>3.769405</td>\n",
              "      <td>-1.449344</td>\n",
              "      <td>-1.757987</td>\n",
              "      <td>-0.638194</td>\n",
              "      <td>...</td>\n",
              "      <td>-1.625143</td>\n",
              "      <td>-0.887240</td>\n",
              "      <td>0.037570</td>\n",
              "      <td>0.931982</td>\n",
              "      <td>0.892304</td>\n",
              "      <td>0.166069</td>\n",
              "      <td>-0.040906</td>\n",
              "      <td>0.134052</td>\n",
              "      <td>1.98</td>\n",
              "      <td>0.0</td>\n",
              "    </tr>\n",
              "    <tr>\n",
              "      <th>144664</th>\n",
              "      <td>86307</td>\n",
              "      <td>-1.256340</td>\n",
              "      <td>0.666847</td>\n",
              "      <td>0.857662</td>\n",
              "      <td>1.071812</td>\n",
              "      <td>-0.624798</td>\n",
              "      <td>0.329237</td>\n",
              "      <td>0.477858</td>\n",
              "      <td>0.502438</td>\n",
              "      <td>-0.291680</td>\n",
              "      <td>...</td>\n",
              "      <td>0.097908</td>\n",
              "      <td>0.428510</td>\n",
              "      <td>-0.175776</td>\n",
              "      <td>0.032314</td>\n",
              "      <td>-0.033240</td>\n",
              "      <td>-0.269483</td>\n",
              "      <td>0.257663</td>\n",
              "      <td>0.049923</td>\n",
              "      <td>150.57</td>\n",
              "      <td>0.0</td>\n",
              "    </tr>\n",
              "    <tr>\n",
              "      <th>144665</th>\n",
              "      <td>86308</td>\n",
              "      <td>-2.085957</td>\n",
              "      <td>2.132527</td>\n",
              "      <td>0.394236</td>\n",
              "      <td>-0.793308</td>\n",
              "      <td>0.560582</td>\n",
              "      <td>0.250669</td>\n",
              "      <td>0.898546</td>\n",
              "      <td>-0.087808</td>\n",
              "      <td>1.373166</td>\n",
              "      <td>...</td>\n",
              "      <td>-0.688234</td>\n",
              "      <td>-0.691653</td>\n",
              "      <td>-0.155321</td>\n",
              "      <td>-0.941042</td>\n",
              "      <td>0.082100</td>\n",
              "      <td>0.005104</td>\n",
              "      <td>-0.252739</td>\n",
              "      <td>-0.930140</td>\n",
              "      <td>8.92</td>\n",
              "      <td>0.0</td>\n",
              "    </tr>\n",
              "  </tbody>\n",
              "</table>\n",
              "<p>129666 rows × 31 columns</p>\n",
              "</div>\n",
              "      <button class=\"colab-df-convert\" onclick=\"convertToInteractive('df-a99db4f0-9574-407c-bc30-58d7e571381e')\"\n",
              "              title=\"Convert this dataframe to an interactive table.\"\n",
              "              style=\"display:none;\">\n",
              "        \n",
              "  <svg xmlns=\"http://www.w3.org/2000/svg\" height=\"24px\"viewBox=\"0 0 24 24\"\n",
              "       width=\"24px\">\n",
              "    <path d=\"M0 0h24v24H0V0z\" fill=\"none\"/>\n",
              "    <path d=\"M18.56 5.44l.94 2.06.94-2.06 2.06-.94-2.06-.94-.94-2.06-.94 2.06-2.06.94zm-11 1L8.5 8.5l.94-2.06 2.06-.94-2.06-.94L8.5 2.5l-.94 2.06-2.06.94zm10 10l.94 2.06.94-2.06 2.06-.94-2.06-.94-.94-2.06-.94 2.06-2.06.94z\"/><path d=\"M17.41 7.96l-1.37-1.37c-.4-.4-.92-.59-1.43-.59-.52 0-1.04.2-1.43.59L10.3 9.45l-7.72 7.72c-.78.78-.78 2.05 0 2.83L4 21.41c.39.39.9.59 1.41.59.51 0 1.02-.2 1.41-.59l7.78-7.78 2.81-2.81c.8-.78.8-2.07 0-2.86zM5.41 20L4 18.59l7.72-7.72 1.47 1.35L5.41 20z\"/>\n",
              "  </svg>\n",
              "      </button>\n",
              "      \n",
              "  <style>\n",
              "    .colab-df-container {\n",
              "      display:flex;\n",
              "      flex-wrap:wrap;\n",
              "      gap: 12px;\n",
              "    }\n",
              "\n",
              "    .colab-df-convert {\n",
              "      background-color: #E8F0FE;\n",
              "      border: none;\n",
              "      border-radius: 50%;\n",
              "      cursor: pointer;\n",
              "      display: none;\n",
              "      fill: #1967D2;\n",
              "      height: 32px;\n",
              "      padding: 0 0 0 0;\n",
              "      width: 32px;\n",
              "    }\n",
              "\n",
              "    .colab-df-convert:hover {\n",
              "      background-color: #E2EBFA;\n",
              "      box-shadow: 0px 1px 2px rgba(60, 64, 67, 0.3), 0px 1px 3px 1px rgba(60, 64, 67, 0.15);\n",
              "      fill: #174EA6;\n",
              "    }\n",
              "\n",
              "    [theme=dark] .colab-df-convert {\n",
              "      background-color: #3B4455;\n",
              "      fill: #D2E3FC;\n",
              "    }\n",
              "\n",
              "    [theme=dark] .colab-df-convert:hover {\n",
              "      background-color: #434B5C;\n",
              "      box-shadow: 0px 1px 3px 1px rgba(0, 0, 0, 0.15);\n",
              "      filter: drop-shadow(0px 1px 2px rgba(0, 0, 0, 0.3));\n",
              "      fill: #FFFFFF;\n",
              "    }\n",
              "  </style>\n",
              "\n",
              "      <script>\n",
              "        const buttonEl =\n",
              "          document.querySelector('#df-a99db4f0-9574-407c-bc30-58d7e571381e button.colab-df-convert');\n",
              "        buttonEl.style.display =\n",
              "          google.colab.kernel.accessAllowed ? 'block' : 'none';\n",
              "\n",
              "        async function convertToInteractive(key) {\n",
              "          const element = document.querySelector('#df-a99db4f0-9574-407c-bc30-58d7e571381e');\n",
              "          const dataTable =\n",
              "            await google.colab.kernel.invokeFunction('convertToInteractive',\n",
              "                                                     [key], {});\n",
              "          if (!dataTable) return;\n",
              "\n",
              "          const docLinkHtml = 'Like what you see? Visit the ' +\n",
              "            '<a target=\"_blank\" href=https://colab.research.google.com/notebooks/data_table.ipynb>data table notebook</a>'\n",
              "            + ' to learn more about interactive tables.';\n",
              "          element.innerHTML = '';\n",
              "          dataTable['output_type'] = 'display_data';\n",
              "          await google.colab.output.renderOutput(dataTable, element);\n",
              "          const docLink = document.createElement('div');\n",
              "          docLink.innerHTML = docLinkHtml;\n",
              "          element.appendChild(docLink);\n",
              "        }\n",
              "      </script>\n",
              "    </div>\n",
              "  </div>\n",
              "  "
            ]
          },
          "metadata": {},
          "execution_count": 9
        }
      ]
    },
    {
      "cell_type": "code",
      "source": [
        "\n",
        "X_train = df_train_all.drop(['Time', 'Class'],axis=1) # We drop the features Time (useless), and the Class (label)\n",
        "y_train = df_train_all['Class'] # We create our label\n",
        "X_train = np.asarray(X_train)\n",
        "y_train = np.asarray(y_train)\n",
        "X_train"
      ],
      "metadata": {
        "colab": {
          "base_uri": "https://localhost:8080/"
        },
        "id": "s4PcQJcJn0QG",
        "outputId": "d2d6e927-7044-44e1-c041-97083d06cde1"
      },
      "execution_count": null,
      "outputs": [
        {
          "output_type": "execute_result",
          "data": {
            "text/plain": [
              "array([[-1.35980713e+00, -7.27811733e-02,  2.53634674e+00, ...,\n",
              "         1.33558377e-01, -2.10530535e-02,  1.49620000e+02],\n",
              "       [ 1.19185711e+00,  2.66150712e-01,  1.66480113e-01, ...,\n",
              "        -8.98309914e-03,  1.47241692e-02,  2.69000000e+00],\n",
              "       [-1.35835406e+00, -1.34016307e+00,  1.77320934e+00, ...,\n",
              "        -5.53527940e-02, -5.97518406e-02,  3.78660000e+02],\n",
              "       ...,\n",
              "       [ 1.24567382e+00,  1.66975020e-01,  4.88305743e-01, ...,\n",
              "        -3.58663153e-02,  1.84945730e-02,  8.99000000e+00],\n",
              "       [ 1.29727595e+00, -6.94727782e-01,  9.65736847e-01, ...,\n",
              "         5.66956569e-02,  2.76745487e-02,  2.99500000e+01],\n",
              "       [-9.67879121e-01,  1.03621900e+00,  1.06436838e+00, ...,\n",
              "         2.08517317e-01,  3.97170733e-02,  1.09900000e+01]])"
            ]
          },
          "metadata": {},
          "execution_count": 10
        }
      ]
    },
    {
      "cell_type": "code",
      "source": [
        "X_test_all = df_test_all.drop(['Time', 'Class'],axis=1)\n",
        "y_test_all = df_test_all['Class']\n",
        "X_test_all\n",
        "X_test_all = np.asarray(X_test_all)\n",
        "y_test_all = np.asarray(y_test_all)\n",
        "X_test_all"
      ],
      "metadata": {
        "colab": {
          "base_uri": "https://localhost:8080/"
        },
        "id": "bbaDQ1VHn0iN",
        "outputId": "2678a5fd-77c7-42fb-81e4-0b9dd4ad2b50"
      },
      "execution_count": null,
      "outputs": [
        {
          "output_type": "execute_result",
          "data": {
            "text/plain": [
              "array([[-3.14087003e+00,  2.90878213e+00, -8.81833381e-01, ...,\n",
              "        -2.17660059e-01, -9.93461716e-02,  1.00000000e+00],\n",
              "       [-6.14852918e-01,  7.35691395e-01,  1.98470212e-01, ...,\n",
              "         5.78507668e-02,  8.67038941e-02,  5.10000000e+01],\n",
              "       [-2.87681680e-01,  1.36835810e+00,  1.61760772e-01, ...,\n",
              "        -6.60945347e-01, -1.19518472e+00,  7.36360000e+02],\n",
              "       ...,\n",
              "       [ 1.27203324e-01,  7.50928105e-01, -9.07180599e-01, ...,\n",
              "        -4.09056211e-02,  1.34051671e-01,  1.98000000e+00],\n",
              "       [-1.25633971e+00,  6.66846587e-01,  8.57661858e-01, ...,\n",
              "         2.57662584e-01,  4.99227735e-02,  1.50570000e+02],\n",
              "       [-2.08595676e+00,  2.13252671e+00,  3.94235671e-01, ...,\n",
              "        -2.52739122e-01, -9.30140285e-01,  8.92000000e+00]])"
            ]
          },
          "metadata": {},
          "execution_count": 12
        }
      ]
    },
    {
      "cell_type": "code",
      "source": [
        "model = svm.SVC(kernel='linear') # Linear Kernel\n"
      ],
      "metadata": {
        "id": "dTD4Xv-cfR6i"
      },
      "execution_count": null,
      "outputs": []
    },
    {
      "cell_type": "code",
      "source": [
        "model.fit(X_train,y_train)"
      ],
      "metadata": {
        "colab": {
          "base_uri": "https://localhost:8080/"
        },
        "id": "NK1MM3g6mdXa",
        "outputId": "7b38390e-287b-4f1f-81b3-8a9c06c1a6b3"
      },
      "execution_count": null,
      "outputs": [
        {
          "output_type": "execute_result",
          "data": {
            "text/plain": [
              "SVC(kernel='linear')"
            ]
          },
          "metadata": {},
          "execution_count": 14
        }
      ]
    },
    {
      "cell_type": "code",
      "source": [
        "# np.all(np.isfinite(df_test_all))\n",
        "# np.all(np.isfinite(df_test_all))\n",
        "df.isnull().any()\n"
      ],
      "metadata": {
        "colab": {
          "base_uri": "https://localhost:8080/"
        },
        "id": "fLo6hz4gxr_l",
        "outputId": "366f1ad9-f978-4cb7-9416-599d325282b2"
      },
      "execution_count": null,
      "outputs": [
        {
          "output_type": "execute_result",
          "data": {
            "text/plain": [
              "Time      False\n",
              "V1        False\n",
              "V2        False\n",
              "V3        False\n",
              "V4        False\n",
              "V5        False\n",
              "V6        False\n",
              "V7        False\n",
              "V8        False\n",
              "V9        False\n",
              "V10       False\n",
              "V11       False\n",
              "V12       False\n",
              "V13       False\n",
              "V14       False\n",
              "V15       False\n",
              "V16       False\n",
              "V17       False\n",
              "V18       False\n",
              "V19       False\n",
              "V20       False\n",
              "V21       False\n",
              "V22       False\n",
              "V23       False\n",
              "V24       False\n",
              "V25       False\n",
              "V26       False\n",
              "V27       False\n",
              "V28       False\n",
              "Amount    False\n",
              "Class     False\n",
              "dtype: bool"
            ]
          },
          "metadata": {},
          "execution_count": 15
        }
      ]
    },
    {
      "cell_type": "code",
      "source": [
        "predicted_values=model.predict(X_test_all)"
      ],
      "metadata": {
        "id": "chlcf7NnoF2p"
      },
      "execution_count": null,
      "outputs": []
    },
    {
      "cell_type": "code",
      "source": [
        "acc_svm = metrics.accuracy_score(y_test_all, predicted_values)\n"
      ],
      "metadata": {
        "id": "oUHz2w1PotLP"
      },
      "execution_count": null,
      "outputs": []
    },
    {
      "cell_type": "code",
      "source": [
        "print(acc_svm*100)"
      ],
      "metadata": {
        "colab": {
          "base_uri": "https://localhost:8080/"
        },
        "id": "9gIz60MFzWIV",
        "outputId": "fe309e21-fa9a-4b11-e2f1-6419c2a17ae1"
      },
      "execution_count": null,
      "outputs": [
        {
          "output_type": "stream",
          "name": "stdout",
          "text": [
            "99.82493483256984\n"
          ]
        }
      ]
    },
    {
      "cell_type": "code",
      "source": [
        "from sklearn.metrics import confusion_matrix\n",
        "import seaborn as sb\n",
        "\n",
        "svm_cm = confusion_matrix(y_test_all,predicted_values) #Confusion Matrix for Predicted values\n",
        "sb.heatmap(svm_cm, annot=True, linewidth=1.0,cmap='PuBu')\n"
      ],
      "metadata": {
        "colab": {
          "base_uri": "https://localhost:8080/",
          "height": 282
        },
        "id": "NPTL4xUo-RYk",
        "outputId": "3b400b83-5e8b-49c9-b6d6-f12ba8a9d196"
      },
      "execution_count": null,
      "outputs": [
        {
          "output_type": "execute_result",
          "data": {
            "text/plain": [
              "<matplotlib.axes._subplots.AxesSubplot at 0x7f2ed576b890>"
            ]
          },
          "metadata": {},
          "execution_count": 19
        },
        {
          "output_type": "display_data",
          "data": {
            "text/plain": [
              "<Figure size 432x288 with 2 Axes>"
            ],
            "image/png": "[encoded data removed]"
          },
          "metadata": {
            "needs_background": "light"
          }
        }
      ]
    }
  ]
}