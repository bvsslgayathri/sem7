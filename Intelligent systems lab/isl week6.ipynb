{
  "nbformat": 4,
  "nbformat_minor": 0,
  "metadata": {
    "colab": {
      "provenance": []
    },
    "kernelspec": {
      "name": "python3",
      "display_name": "Python 3"
    },
    "language_info": {
      "name": "python"
    }
  },
  "cells": [
    {
      "cell_type": "code",
      "execution_count": null,
      "metadata": {
        "colab": {
          "base_uri": "https://localhost:8080/",
          "height": 419
        },
        "id": "YVxitd8-kW28",
        "outputId": "1f9d5c7f-ff98-437a-ef60-00cc81c7025d"
      },
      "outputs": [
        {
          "output_type": "stream",
          "name": "stdout",
          "text": [
            "Initial Weights + bias :  (-0.5270012837451609, -1.5304324785442707, -0.1658801712683846, -0.3367791948729304, 0.43233274855632)\n",
            "Mean Square error at epoch - 1 : 0.9864211995482648\n",
            "Mean Square error at epoch - 2 : 0.17598335345193347\n",
            "Mean Square error at epoch - 3 : 0.15400987464969706\n",
            "Mean Square error at epoch - 4 : 0.13641230325685882\n",
            "Mean Square error at epoch - 5 : 0.12220004421454453\n"
          ]
        },
        {
          "output_type": "display_data",
          "data": {
            "text/plain": [
              "<Figure size 432x288 with 1 Axes>"
            ],
            "image/png": "[encoded data removed]"
          },
          "metadata": {
            "needs_background": "light"
          }
        }
      ],
      "source": [
        "import pandas as pd\n",
        "import numpy as np\n",
        "import matplotlib.pyplot as plt\n",
        "import seaborn as sns\n",
        "df = pd.read_csv(\"/content/drive/MyDrive/datasets/Iris.csv\")\n",
        "X = df.drop(['Species'], axis = 1)\n",
        "y = df['Species']\n",
        "y = y.map({'Iris-setosa' : 1,'Iris-versicolor' : 1, 'Iris-virginica' : 3})\n",
        "w1, w2, w3, w4, b = tuple(np.random.normal(size=5))\n",
        "print(\"Initial Weights + bias : \", (w1, w2, w3, w4, b))\n",
        "epochs = 5\n",
        "alpha = 0.01\n",
        "MSE = []\n",
        "for i in range(epochs):\n",
        "  error = []\n",
        "  for i in range(len(X)):\n",
        "    y_pred = w1*X.iloc[i, 1] + w2*X.iloc[i, 2] + w3*X.iloc[i, 3] + w4*X.iloc[i, 4] + b\n",
        "    t = y[i]\n",
        "    diff = t - y_pred\n",
        "    err = diff**2\n",
        "    error.append(err)\n",
        "    delta_w1 = alpha*diff*X.iloc[i, 1]\n",
        "    delta_w2 = alpha*diff*X.iloc[i, 2]\n",
        "    delta_w3 = alpha*diff*X.iloc[i, 3]\n",
        "    delta_w4 = alpha*diff*X.iloc[i, 4]\n",
        "    delta_b = alpha*diff\n",
        "    w1 = w1 + delta_w1\n",
        "    w2 = w2 + delta_w2\n",
        "    w3 = w3 + delta_w3\n",
        "    w4 = w4 + delta_w4\n",
        "    b = b + delta_b\n",
        "  MSE.append(np.array(error).mean())\n",
        "for i in range(epochs):\n",
        "  print(\"Mean Square error at epoch -\", str(i+1)+\" :\", MSE[i])\n",
        "plt.plot(np.array(MSE))\n",
        "plt.xticks(np.arange(epochs),[str(i+1) for i in range(epochs)])\n",
        "plt.xlabel('Epochs')\n",
        "plt.ylabel('Mean Square Error')\n",
        "plt.title('Epoch vs MSE')\n",
        "plt.show()"
      ]
    },
    {
      "cell_type": "code",
      "source": [
        "from google.colab import drive\n",
        "drive.mount('/content/drive')"
      ],
      "metadata": {
        "colab": {
          "base_uri": "https://localhost:8080/"
        },
        "id": "k8n5W6cAlVeK",
        "outputId": "7147794c-9292-45cf-c43f-070f88ae208d"
      },
      "execution_count": null,
      "outputs": [
        {
          "output_type": "stream",
          "name": "stdout",
          "text": [
            "Mounted at /content/drive\n"
          ]
        }
      ]
    }
  ]
}